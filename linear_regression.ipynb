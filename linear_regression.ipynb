{
  "nbformat": 4,
  "nbformat_minor": 0,
  "metadata": {
    "colab": {
      "provenance": [],
      "include_colab_link": true
    },
    "kernelspec": {
      "name": "python3",
      "display_name": "Python 3"
    },
    "language_info": {
      "name": "python"
    }
  },
  "cells": [
    {
      "cell_type": "markdown",
      "metadata": {
        "id": "view-in-github",
        "colab_type": "text"
      },
      "source": [
        "<a href=\"https://colab.research.google.com/github/dinhquy-nguyen-1704/Mini_project/blob/main/linear_regression.ipynb\" target=\"_parent\"><img src=\"https://colab.research.google.com/assets/colab-badge.svg\" alt=\"Open In Colab\"/></a>"
      ]
    },
    {
      "cell_type": "code",
      "source": [
        "import numpy as np"
      ],
      "metadata": {
        "id": "Ukmr7OX6ElWb"
      },
      "execution_count": null,
      "outputs": []
    },
    {
      "cell_type": "code",
      "execution_count": null,
      "metadata": {
        "id": "LJnKPXXVDt65"
      },
      "outputs": [],
      "source": [
        "class LinearRegression:\n",
        "    def __init__(self, X_data, y_target, learning_rate = 0.01, num_epochs = 10000):\n",
        "        self.X_data = X_data\n",
        "        self.y_target = y_target\n",
        "        self.learning_rate = learning_rate\n",
        "        self.num_epochs = num_epochs\n",
        "        self.num_sample = X_data.shape([0])\n",
        "\n",
        "        self.theta = np.random.rand(self.X_data.shape([1]))\n",
        "        self.losses = []\n",
        "\n",
        "    def compute_loss(self, y_pred, y_target):\n",
        "        loss = (y_pred - y_target)*(y_pred - y_target)\n",
        "        loss = np.mean(loss)\n",
        "\n",
        "        return loss\n",
        "\n",
        "    def predict(self, X_data):\n",
        "        y_pred = X_data.dot(self.theta)\n",
        "\n",
        "        return y_pred\n",
        "\n",
        "    def fit(self):\n",
        "        for epoch in range(self.num_epochs):\n",
        "            y_pred = self.predict(self.X_data)\n",
        "\n",
        "            loss = self.compute_loss(y_pred, self.y_target)\n",
        "            self.losses.append(loss)\n",
        "\n",
        "            k = 2*(y_pred - self.y_target)\n",
        "            gradients = self.X_data.T.dot(k)/self.num_sample\n",
        "\n",
        "            self.theta = self.theta - self.learning_rate * gradients\n",
        "\n",
        "            print(f'Epoch: {epoch} - Loss: {loss}')\n",
        "\n",
        "        return {\n",
        "                'loss': sum(self.losses) / len(self.losses),\n",
        "                'weight': self.theta\n",
        "               }"
      ]
    },
    {
      "cell_type": "code",
      "source": [
        "def r2score(y_pred, y):\n",
        "    rss = np.sum((y_pred - y)**2)\n",
        "    tss = np.sum((y - y.mean())**2)\n",
        "    r2 = 1 - (rss / tss)\n",
        "    return r2"
      ],
      "metadata": {
        "id": "aeaDdCKgI4d5"
      },
      "execution_count": null,
      "outputs": []
    },
    {
      "cell_type": "code",
      "source": [
        "y_pred = np.array([1, 2, 3, 4, 5])\n",
        "y = np . array ([1, 2, 3, 4, 5])\n",
        "r2score(y_pred, y)"
      ],
      "metadata": {
        "colab": {
          "base_uri": "https://localhost:8080/"
        },
        "id": "UUWksaPSJfcL",
        "outputId": "8b46e1b8-da0c-4b30-ddab-f1255997339c"
      },
      "execution_count": null,
      "outputs": [
        {
          "output_type": "execute_result",
          "data": {
            "text/plain": [
              "1.0"
            ]
          },
          "metadata": {},
          "execution_count": 4
        }
      ]
    },
    {
      "cell_type": "code",
      "source": [
        "y_pred = np.array([1, 2, 3, 4, 5])\n",
        "y = np.array([3, 5, 5, 2, 4])\n",
        "r2score(y_pred, y)"
      ],
      "metadata": {
        "colab": {
          "base_uri": "https://localhost:8080/"
        },
        "id": "0ZZursNbJuWM",
        "outputId": "e33dfc42-83dc-41fb-da84-6381bacc1d71"
      },
      "execution_count": null,
      "outputs": [
        {
          "output_type": "execute_result",
          "data": {
            "text/plain": [
              "-2.235294117647059"
            ]
          },
          "metadata": {},
          "execution_count": 5
        }
      ]
    }
  ]
}